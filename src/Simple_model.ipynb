{
 "cells": [
  {
   "cell_type": "code",
   "execution_count": 199,
   "metadata": {},
   "outputs": [],
   "source": [
    "import torch\n",
    "from torch.autograd import Variable\n",
    "from torch.nn.parameter import Parameter\n",
    "import torch.nn as nn\n",
    "import torch.optim as optim\n",
    "import torch.nn.init as init\n",
    "\n",
    "\n",
    "import matplotlib\n",
    "import numpy as np\n",
    "import matplotlib.pyplot as plt\n",
    "\n",
    "import pandas as pd\n",
    "from torch.nn.functional import relu, elu, relu6, sigmoid, tanh, softmax\n",
    "\n",
    "\n",
    "###\n",
    "from sklearn.metrics import accuracy_score\n",
    "from numpy import savez_compressed\n",
    "import random\n",
    "from numpy import load\n",
    "from sklearn.metrics import roc_auc_score\n",
    "import sklearn.metrics as metrics\n",
    "\n",
    "%matplotlib inline"
   ]
  },
  {
   "cell_type": "code",
   "execution_count": null,
   "metadata": {},
   "outputs": [],
   "source": [
    "data_dir = \"/Users/alsj/Documents/Courses/Deep_Learning/dl_project\""
   ]
  },
  {
   "cell_type": "code",
   "execution_count": null,
   "metadata": {},
   "outputs": [],
   "source": [
    "# alphabet\n",
    "alphabet_file = data_dir + \"/alphabet\"\n",
    "alphabet = np.loadtxt(alphabet_file, dtype=str)"
   ]
  },
  {
   "cell_type": "code",
   "execution_count": null,
   "metadata": {},
   "outputs": [],
   "source": [
    "# blossum encoding\n",
    "blosum_file = data_dir + \"/blosum50_2_no_B_Z_copy\"\n",
    "\n",
    "_blosum50 = np.loadtxt(blosum_file, dtype=float).reshape((22, -1)).T\n",
    "\n",
    "blosum50 = {}\n",
    "\n",
    "for i, letter_1 in enumerate(alphabet):\n",
    "    \n",
    "    blosum50[letter_1] = {}\n",
    "\n",
    "    for j, letter_2 in enumerate(alphabet):\n",
    "        \n",
    "        blosum50[letter_1][letter_2] = _blosum50[i, j] / 5.0"
   ]
  },
  {
   "cell_type": "code",
   "execution_count": null,
   "metadata": {},
   "outputs": [],
   "source": [
    "# peptide encoding\n",
    "def encode(peptides, encoding_scheme, alphabet):\n",
    "    \n",
    "    encoded_peptides = []\n",
    "\n",
    "    for peptide in peptides:\n",
    "\n",
    "        encoded_peptide = []\n",
    "\n",
    "        for peptide_letter in peptide:\n",
    "\n",
    "            for alphabet_letter in alphabet:\n",
    "\n",
    "                encoded_peptide.append(encoding_scheme[peptide_letter][alphabet_letter])\n",
    "        \n",
    "        # store peptide\n",
    "        encoded_peptides.append(encoded_peptide)\n",
    "        \n",
    "    return np.array(encoded_peptides)"
   ]
  },
  {
   "cell_type": "code",
   "execution_count": null,
   "metadata": {},
   "outputs": [],
   "source": [
    "\n",
    "def padding(nnt, num_pad, m_dict):\n",
    "    x = []\n",
    "    \n",
    "  #  for d in range(0,len(nnt)):\n",
    "    for n, i in enumerate(nnt[0]):\n",
    "        if len(i) != num_pad:\n",
    "\n",
    "            if (len(i) % 2) == 0:\n",
    "                split_sec = len(i)//2\n",
    "\n",
    "                n_t_p = num_pad - len(i)\n",
    "\n",
    "                x_s = \"X\"*n_t_p\n",
    "\n",
    "                left = i[:split_sec]+x_s\n",
    "                right = i[split_sec:]\n",
    "\n",
    "                #print(left+right)\n",
    "                #print(len(left+right))\n",
    "\n",
    "                #nnt[n] = left+right+m_dict[nnt[2][n]]\n",
    "                x.append(left+right+m_dict[nnt[2][n]])\n",
    "\n",
    "\n",
    "            else:\n",
    "                split_sec = len(i)//2\n",
    "                n_t_p = num_pad - len(i)\n",
    "                x_s = \"X\"*n_t_p\n",
    "\n",
    "                #binomial statement\n",
    "                result = np.random.binomial(1, 0.5)\n",
    "                if result == 1:\n",
    "\n",
    "                    left = i[:split_sec] + x_s\n",
    "                    right = i[split_sec:]\n",
    "\n",
    "                    #nnt[n] = left+right+m_dict[nnt[2][n]]\n",
    "                    x.append(left+right+m_dict[nnt[2][n]])\n",
    "\n",
    "                else:\n",
    "\n",
    "                    left = i[:split_sec+1] + x_s\n",
    "                    right = i[split_sec+1:]\n",
    "\n",
    "                    #nnt[n] = left+right+m_dict[nnt[2][n]]\n",
    "                    x.append(left+right+m_dict[nnt[2][n]])\n",
    "\n",
    "        else:\n",
    "            x.append(i+m_dict[nnt[2][n]])\n",
    "            \n",
    "    return x\n",
    "\n",
    "\n",
    "\n",
    "\n"
   ]
  },
  {
   "cell_type": "code",
   "execution_count": null,
   "metadata": {},
   "outputs": [],
   "source": [
    "# load data\n",
    "\n",
    "el_data_mhc = data_dir + \"/el_data/MHC_pseudo.dat\"\n",
    "mhc_dat = np.loadtxt(el_data_mhc, dtype=str)\n",
    "\n",
    "el_data_00 = data_dir + \"/el_data/c000_el\"\n",
    "el_data_01 = data_dir + \"/el_data/c001_el\"\n",
    "el_data_02 = data_dir + \"/el_data/c002_el\"\n",
    "el_data_03 = data_dir + \"/el_data/c003_el\"\n",
    "el_data_04 = data_dir + \"/el_data/c004_el\"\n",
    "\n",
    "file_00_c = pd.read_csv(el_data_00, sep = \" \", header=None)\n",
    "file_01_c = pd.read_csv(el_data_01, sep = \" \", header=None)\n",
    "file_02_c = pd.read_csv(el_data_02, sep = \" \", header=None)\n",
    "file_03_c = pd.read_csv(el_data_03, sep = \" \", header=None)\n",
    "file_04_c = pd.read_csv(el_data_04, sep = \" \", header=None)"
   ]
  },
  {
   "cell_type": "code",
   "execution_count": null,
   "metadata": {},
   "outputs": [],
   "source": [
    "# create mhc seq dictionary\n",
    "\n",
    "mhc_dict = {}\n",
    "for mhc in mhc_dat:\n",
    "    mhc_dict[mhc[0]] = mhc[1]"
   ]
  },
  {
   "cell_type": "code",
   "execution_count": null,
   "metadata": {},
   "outputs": [],
   "source": [
    "# creating training data file\n",
    "\n",
    "training_data = pd.concat([file_01_c,file_02_c,file_03_c,file_04_c], ignore_index=True)\n",
    "\n",
    "# training_data[0] = training_data[0].str.upper()\n",
    "\n",
    "file_01_c[0] = file_01_c[0].str.upper() #make sure that all amino acids are uppercase\n",
    "\n",
    "file_02_c[0] = file_02_c[0].str.upper() #make sure that all amino acids are uppercase\n",
    "\n",
    "file_03_c[0] = file_03_c[0].str.upper() #make sure that all amino acids are uppercase\n",
    "\n",
    "file_04_c[0] = file_04_c[0].str.upper() #make sure that all amino acids are uppercase\n",
    "\n",
    "valid_data = file_00_c.copy(deep=True)\n",
    "\n",
    "\n",
    "valid_data[0] = valid_data[0].str.upper()\n",
    "\n",
    "\n",
    "# finding the longest sequence in the dataset\n",
    "\n",
    "pad_num = training_data[0].str.len().max()\n",
    "print(pad_num)"
   ]
  },
  {
   "cell_type": "code",
   "execution_count": null,
   "metadata": {},
   "outputs": [],
   "source": [
    "# target data\n",
    "savez_compressed('target1.npz', file_01_c[1])\n",
    "savez_compressed('target2.npz', file_02_c[1])\n",
    "savez_compressed('target3.npz', file_03_c[1])\n",
    "savez_compressed('target4.npz', file_04_c[1])"
   ]
  },
  {
   "cell_type": "code",
   "execution_count": null,
   "metadata": {},
   "outputs": [],
   "source": [
    "train_1 =  encode(padding(file_01_c, pad_num, mhc_dict), blosum50, alphabet)\n",
    "savez_compressed('data1.npz', train_1)"
   ]
  },
  {
   "cell_type": "code",
   "execution_count": null,
   "metadata": {},
   "outputs": [],
   "source": [
    "train_2 =  encode(padding(file_02_c, pad_num, mhc_dict), blosum50, alphabet)\n",
    "savez_compressed('data2.npz', train_2)"
   ]
  },
  {
   "cell_type": "code",
   "execution_count": null,
   "metadata": {},
   "outputs": [],
   "source": [
    "train_3 =  encode(padding(file_03_c, pad_num, mhc_dict), blosum50, alphabet)\n",
    "savez_compressed('data3.npz', train_3)"
   ]
  },
  {
   "cell_type": "code",
   "execution_count": null,
   "metadata": {},
   "outputs": [],
   "source": [
    "train_4 =  encode(padding(file_04_c, pad_num, mhc_dict), blosum50, alphabet)\n",
    "savez_compressed('data4.npz', train_4)"
   ]
  },
  {
   "cell_type": "code",
   "execution_count": null,
   "metadata": {},
   "outputs": [],
   "source": []
  },
  {
   "cell_type": "code",
   "execution_count": 184,
   "metadata": {},
   "outputs": [],
   "source": [
    "# loading validation data/test data\n",
    "\n",
    "dict_data0 = load('data0.npz')\n",
    "x_valid = dict_data0['arr_0']\n",
    "\n",
    "dict_data_v = load('targets_valid.npz')\n",
    "targets_valid = dict_data_v['arr_0']"
   ]
  },
  {
   "cell_type": "code",
   "execution_count": 195,
   "metadata": {},
   "outputs": [
    {
     "name": "stdout",
     "output_type": "stream",
     "text": [
      "Net(\n",
      "  (l_1): Linear(in_features=1056, out_features=100, bias=True)\n",
      "  (l_out): Linear(in_features=100, out_features=1, bias=True)\n",
      ")\n"
     ]
    }
   ],
   "source": [
    "# define network\n",
    "class Net(nn.Module):\n",
    "\n",
    "    def __init__(self, input_dim, hidden_dim, NUM_CLASSES):\n",
    "        super(Net, self).__init__()  \n",
    "        \n",
    "        self.l_1 = nn.Linear(input_dim, hidden_dim) \n",
    "\n",
    "        self.l_out = nn.Linear(hidden_dim, NUM_CLASSES)  \n",
    "        \n",
    "    def forward(self, x):\n",
    "        # \n",
    "        x = relu(self.l_1(x))\n",
    "        \n",
    "        out = sigmoid(self.l_out(x))\n",
    "        \n",
    "        return out\n",
    "        \n",
    "\n",
    "\n",
    "#Hyperparameters\n",
    "num_input = (14+34)*22\n",
    "num_hidden = 100\n",
    "num_classes = 1\n",
    "\n",
    "\n",
    "net = Net(num_input, num_hidden, num_classes)\n",
    "\n",
    "\n",
    "\n",
    "if torch.cuda.is_available():\n",
    "    net.cuda()\n",
    "print(net)\n",
    "    \n",
    "\n",
    "\n",
    "\n",
    "\n",
    "\n",
    "\n"
   ]
  },
  {
   "cell_type": "code",
   "execution_count": 196,
   "metadata": {},
   "outputs": [],
   "source": [
    "# Building the cost function.\n",
    "\n",
    "LEARNING_RATE = 2e-5\n",
    "\n",
    "criterion =     nn.BCELoss()\n",
    "\n",
    "optimizer = optim.Adam(net.parameters(), lr=LEARNING_RATE)\n",
    "\n",
    "\n",
    "\n",
    "\n"
   ]
  },
  {
   "cell_type": "code",
   "execution_count": 197,
   "metadata": {},
   "outputs": [
    {
     "data": {
      "text/plain": [
       "{'data1.npz': 'target1.npz',\n",
       " 'data2.npz': 'target2.npz',\n",
       " 'data3.npz': 'target3.npz',\n",
       " 'data4.npz': 'target4.npz'}"
      ]
     },
     "execution_count": 197,
     "metadata": {},
     "output_type": "execute_result"
    }
   ],
   "source": [
    "target_data_dict = {\"data1.npz\":'target1.npz', \"data2.npz\":'target2.npz', \"data3.npz\":'target3.npz', \"data4.npz\":'target4.npz'}\n",
    "\n",
    "\n",
    "\n",
    "target_data_dict"
   ]
  },
  {
   "cell_type": "code",
   "execution_count": null,
   "metadata": {},
   "outputs": [
    {
     "name": "stderr",
     "output_type": "stream",
     "text": [
      "/Users/alsj/anaconda3/lib/python3.7/site-packages/torch/nn/functional.py:1350: UserWarning: nn.functional.sigmoid is deprecated. Use torch.sigmoid instead.\n",
      "  warnings.warn(\"nn.functional.sigmoid is deprecated. Use torch.sigmoid instead.\")\n",
      "/Users/alsj/anaconda3/lib/python3.7/site-packages/torch/nn/modules/loss.py:498: UserWarning: Using a target size (torch.Size([128])) that is different to the input size (torch.Size([128, 1])) is deprecated. Please ensure they have the same size.\n",
      "  return F.binary_cross_entropy(input, target, weight=self.weight, reduction=self.reduction)\n"
     ]
    },
    {
     "name": "stdout",
     "output_type": "stream",
     "text": [
      "Epoch  1 : Train Loss 10.435822 , Train acc 0.954631, Valid acc 0.954270\n",
      "Epoch  2 : Train Loss 9.308748 , Train acc 0.956500, Valid acc 0.955655\n",
      "Epoch  3 : Train Loss 8.656812 , Train acc 0.958501, Valid acc 0.957482\n",
      "Epoch  4 : Train Loss 8.185974 , Train acc 0.959661, Valid acc 0.959224\n",
      "Epoch  5 : Train Loss 7.465378 , Train acc 0.964245, Valid acc 0.963696\n",
      "Epoch  6 : Train Loss 6.659836 , Train acc 0.965320, Valid acc 0.964386\n",
      "Epoch  7 : Train Loss 6.237753 , Train acc 0.969300, Valid acc 0.968462\n",
      "Epoch  8 : Train Loss 5.986631 , Train acc 0.967945, Valid acc 0.967142\n",
      "Epoch  9 : Train Loss 5.781336 , Train acc 0.968879, Valid acc 0.968043\n",
      "Epoch 10 : Train Loss 5.793941 , Train acc 0.971075, Valid acc 0.970658\n",
      "Epoch 11 : Train Loss 5.497559 , Train acc 0.970339, Valid acc 0.969570\n",
      "Epoch 12 : Train Loss 5.573678 , Train acc 0.971018, Valid acc 0.970766\n",
      "Epoch 13 : Train Loss 5.294858 , Train acc 0.973609, Valid acc 0.972718\n",
      "Epoch 14 : Train Loss 5.404811 , Train acc 0.973483, Valid acc 0.972976\n",
      "Epoch 15 : Train Loss 5.346346 , Train acc 0.972753, Valid acc 0.972337\n",
      "Epoch 16 : Train Loss 5.109334 , Train acc 0.973231, Valid acc 0.972381\n",
      "Epoch 17 : Train Loss 5.228455 , Train acc 0.974797, Valid acc 0.974342\n",
      "Epoch 18 : Train Loss 5.002320 , Train acc 0.976003, Valid acc 0.975101\n",
      "Epoch 19 : Train Loss 4.959064 , Train acc 0.976441, Valid acc 0.975493\n",
      "Epoch 20 : Train Loss 5.107019 , Train acc 0.974932, Valid acc 0.974534\n",
      "train auc  0.7722576224305129\n",
      "valid auc  0.7672701432952433\n"
     ]
    },
    {
     "data": {
      "image/png": "[encoded data removed]",
      "text/plain": [
       "<Figure size 432x288 with 1 Axes>"
      ]
     },
     "metadata": {
      "needs_background": "light"
     },
     "output_type": "display_data"
    }
   ],
   "source": [
    "num_epochs = 20\n",
    "batch_size = 128\n",
    "ev_batch_size = 64\n",
    "\n",
    "train_list = [\"data1.npz\", \"data2.npz\", \"data3.npz\", \"data4.npz\"]\n",
    "\n",
    "num_samples_valid = x_valid.shape[0] \n",
    "num_batches_valid = num_samples_valid // ev_batch_size \n",
    "\n",
    "train_acc, train_loss = [], []\n",
    "valid_acc, valid_loss = [], []\n",
    "cur_loss = 0\n",
    "losses = []\n",
    "\n",
    "##\n",
    "\n",
    "get_slice = lambda i, size: range(i * size, (i + 1) * size)\n",
    "\n",
    "for epoch in range(num_epochs):\n",
    "    # Forward -> Backprob -> Update params\n",
    "    \n",
    "    # setting up lists for handling loss/accuracy\n",
    "\n",
    "    train_acc, train_loss = [], [] \n",
    "    valid_acc, valid_loss = [], [] \n",
    "    \n",
    "    random.shuffle(train_list)\n",
    "    \n",
    "    for num, data_f in enumerate(train_list):\n",
    "        dict_data = load(data_f)\n",
    "        x_train = dict_data['arr_0']\n",
    "        \n",
    "        dict_data_target = load(target_data_dict[data_f])\n",
    "        targets_train = dict_data_target['arr_0']\n",
    "        # batch setup and accuracy\n",
    "\n",
    "        num_samples_train = x_train.shape[0] \n",
    "        num_batches_train = num_samples_train // batch_size \n",
    "\n",
    "        ## Train\n",
    "        cur_loss = 0\n",
    "        net.train()\n",
    "        losses = []\n",
    "        for i in range(num_batches_train):\n",
    "            slce = get_slice(i, batch_size)\n",
    "\n",
    "            x_batch = torch.tensor(x_train[slce], dtype = torch.float, requires_grad = True) \n",
    "            output = net(x_batch)\n",
    "\n",
    "            target_batch = torch.tensor(np.array(targets_train)[slce], dtype = torch.float)\n",
    "            batch_loss = criterion(output, target_batch)\n",
    "            optimizer.zero_grad()\n",
    "            batch_loss.backward()\n",
    "            optimizer.step()\n",
    "\n",
    "            cur_loss += batch_loss   \n",
    "        losses.append(cur_loss / batch_size)\n",
    "        \n",
    "        \n",
    "\n",
    "    net.eval()\n",
    "    ### Evaluate training\n",
    "    \n",
    "    train_preds, train_targs = [], [] \n",
    "    for i in range(num_batches_train):\n",
    "        slce = get_slice(i, batch_size)\n",
    "        \n",
    "        x_batch = torch.tensor(x_train[slce], dtype = torch.float) \n",
    "\n",
    "        output = net(x_batch)\n",
    "        preds = np.round(output.detach())\n",
    "\n",
    "\n",
    "        train_targs += list(np.array(targets_train)[slce])\n",
    "        train_preds += list(preds.data.numpy())\n",
    "\n",
    "\n",
    "    ### Evaluate validation\n",
    "\n",
    "    val_preds, val_targs = [], []\n",
    "    for i in range(num_batches_valid):\n",
    "        slce = get_slice(i, ev_batch_size)\n",
    "    \n",
    "        x_batch = torch.tensor(x_valid[slce], dtype = torch.float)\n",
    "\n",
    "        output = net(x_batch)\n",
    "        \n",
    "        preds = np.round(output.detach())\n",
    "        val_preds += list(preds.data.numpy()) \n",
    "        val_targs += list(np.array(targets_valid)[slce])\n",
    "\n",
    "    train_acc_cur = accuracy_score(train_targs, train_preds)  \n",
    "    valid_acc_cur = accuracy_score(val_targs, val_preds)      \n",
    "\n",
    "\n",
    "\n",
    "\n",
    "    train_acc.append(train_acc_cur)\n",
    "    valid_acc.append(valid_acc_cur)\n",
    "\n",
    "\n",
    "    train_targs_e = 'epoch_%03d_train_targs_e.npz' %epoch\n",
    "    savez_compressed(train_targs_e, train_targs)\n",
    "\n",
    "    train_preds_e = 'epoch_%03d_train_preds_e.npz' %epoch\n",
    "    savez_compressed(train_preds_e, train_preds)\n",
    "    \n",
    "    val_targs_e = 'epoch_%03d_val_targs_e.npz' %epoch\n",
    "    savez_compressed(val_targs_e, val_targs)\n",
    "\n",
    "    val_preds_e = 'epoch_%03d_val_preds_e.npz' %epoch\n",
    "    savez_compressed(val_preds_e, val_preds)\n",
    "\n",
    "    \n",
    "    train_acc_name = 'epoch_%03d_train_acc.npz' %epoch\n",
    "    savez_compressed(train_acc_name, train_acc)\n",
    "\n",
    "\n",
    "    valid_acc_name = 'epoch_%03d_valid_acc.npz' %epoch\n",
    "    savez_compressed(valid_acc_name, valid_acc)\n",
    "\n",
    "\n",
    "    \n",
    "\n",
    "\n",
    "    #if epoch % 10 == 0:\n",
    "    print(\"Epoch %2i : Train Loss %f , Train acc %f, Valid acc %f\" % (\n",
    "                epoch+1, losses[-1], train_acc_cur, valid_acc_cur))\n",
    "\n",
    "    \n",
    "\n",
    "    \n",
    "epoch = np.arange(len(train_acc))\n",
    "plt.figure()\n",
    "plt.plot(epoch, train_acc, 'r', epoch, valid_acc, 'b')\n",
    "plt.legend(['Train Accucary','Validation Accuracy'])\n",
    "plt.xlabel('Updates'), plt.ylabel('Acc')\n",
    "\n"
   ]
  },
  {
   "cell_type": "markdown",
   "metadata": {},
   "source": [
    "## Accuracy graph"
   ]
  },
  {
   "cell_type": "code",
   "execution_count": 200,
   "metadata": {},
   "outputs": [],
   "source": [
    "#test = 'epoch_%03d_test.npz' %epoch\n",
    "#savez_compressed(test, train_acc)\n",
    "valid_acc = []#np.empty([1,5])\n",
    "for epoch in range(20):\n",
    "    dict_n = load('epoch_%03d_valid_acc.npz' %epoch)\n",
    "    targets_n = dict_n['arr_0']\n",
    "    valid_acc.append(targets_n)\n",
    "    "
   ]
  },
  {
   "cell_type": "code",
   "execution_count": 201,
   "metadata": {},
   "outputs": [],
   "source": [
    "#test = 'epoch_%03d_test.npz' %epoch\n",
    "#savez_compressed(test, train_acc)\n",
    "train_acc = []#np.empty([1,5])\n",
    "for epoch in range(20):\n",
    "    dict_n = load('epoch_%03d_train_acc.npz' %epoch)\n",
    "    targets_n = dict_n['arr_0']\n",
    "    train_acc.append(targets_n)\n",
    "    "
   ]
  },
  {
   "cell_type": "code",
   "execution_count": 202,
   "metadata": {},
   "outputs": [
    {
     "data": {
      "text/plain": [
       "(Text(0.5, 0, 'Updates'), Text(0, 0.5, 'Acc'))"
      ]
     },
     "execution_count": 202,
     "metadata": {},
     "output_type": "execute_result"
    },
    {
     "data": {
      "image/png": "[encoded data removed]",
      "text/plain": [
       "<Figure size 432x288 with 1 Axes>"
      ]
     },
     "metadata": {
      "needs_background": "light"
     },
     "output_type": "display_data"
    }
   ],
   "source": [
    "epoch = np.arange(len(train_acc))\n",
    "plt.figure()\n",
    "plt.plot(epoch, train_acc, 'r', epoch, valid_acc, 'b')\n",
    "plt.legend(['Train Accucary','Validation Accuracy'])\n",
    "plt.xlabel('Updates'), plt.ylabel('Acc')\n",
    "\n",
    "\n"
   ]
  },
  {
   "cell_type": "code",
   "execution_count": null,
   "metadata": {},
   "outputs": [],
   "source": []
  },
  {
   "cell_type": "markdown",
   "metadata": {},
   "source": [
    "## AUC"
   ]
  },
  {
   "cell_type": "code",
   "execution_count": 203,
   "metadata": {},
   "outputs": [],
   "source": [
    "val_targs = []\n",
    "for epoch in range(20):\n",
    "    dict_n = load('epoch_%03d_val_targs_e.npz' %epoch)\n",
    "    targets_n = dict_n['arr_0']\n",
    "    #np.append(train_preds, targets_n)\n",
    "    val_targs = np.array(targets_n)\n",
    "\n",
    "\n",
    "val_preds = []\n",
    "for epoch in range(20):\n",
    "    dict_n = load('epoch_%03d_val_preds_e.npz' %epoch)\n",
    "    targets_n = dict_n['arr_0']\n",
    "    #np.append(train_preds, targets_n)\n",
    "    val_preds = np.array(targets_n)\n",
    "    \n",
    "#val_targs"
   ]
  },
  {
   "cell_type": "code",
   "execution_count": 204,
   "metadata": {},
   "outputs": [],
   "source": [
    "train_targs = []\n",
    "for epoch in range(20):\n",
    "    dict_n = load('epoch_%03d_train_targs_e.npz' %epoch)\n",
    "    targets_n = dict_n['arr_0']\n",
    "    #np.append(train_preds, targets_n)\n",
    "    train_targs = np.array(targets_n)\n",
    "\n",
    "\n",
    "train_preds = []\n",
    "for epoch in range(20):\n",
    "    dict_n = load('epoch_%03d_train_preds_e.npz' %epoch)\n",
    "    targets_n = dict_n['arr_0']\n",
    "    #np.append(train_preds, targets_n)\n",
    "    train_preds = np.array(targets_n)\n",
    "    "
   ]
  },
  {
   "cell_type": "code",
   "execution_count": 205,
   "metadata": {},
   "outputs": [
    {
     "name": "stdout",
     "output_type": "stream",
     "text": [
      "train auc  0.7722576224305129\n",
      "valid auc  0.7672701432952433\n"
     ]
    }
   ],
   "source": [
    "train_auc = roc_auc_score(train_targs, train_preds)  \n",
    "valid_auc = roc_auc_score(val_targs, val_preds)\n",
    "print(\"train auc \", train_auc)\n",
    "print(\"valid auc \",valid_auc)"
   ]
  },
  {
   "cell_type": "code",
   "execution_count": null,
   "metadata": {},
   "outputs": [],
   "source": []
  },
  {
   "cell_type": "markdown",
   "metadata": {},
   "source": [
    "## ROC"
   ]
  },
  {
   "cell_type": "code",
   "execution_count": 208,
   "metadata": {},
   "outputs": [
    {
     "data": {
      "image/png": "[encoded data removed]",
      "text/plain": [
       "<Figure size 432x288 with 1 Axes>"
      ]
     },
     "metadata": {
      "needs_background": "light"
     },
     "output_type": "display_data"
    }
   ],
   "source": [
    "fpr, tpr, threshold = metrics.roc_curve(train_targs, train_preds)\n",
    "roc_auc = metrics.auc(fpr, tpr)\n",
    "\n",
    "# method I: plt\n",
    "import matplotlib.pyplot as plt\n",
    "plt.title('Receiver Operating Characteristic')\n",
    "plt.plot(fpr, tpr, 'b', label = 'AUC = %0.2f' % roc_auc)\n",
    "plt.legend(loc = 'lower right')\n",
    "plt.plot([0, 1], [0, 1],'r--')\n",
    "plt.xlim([0, 1])\n",
    "plt.ylim([0, 1])\n",
    "plt.ylabel('True Positive Rate')\n",
    "plt.xlabel('False Positive Rate')\n",
    "plt.show()"
   ]
  },
  {
   "cell_type": "code",
   "execution_count": 213,
   "metadata": {},
   "outputs": [
    {
     "data": {
      "image/png": "[encoded data removed]",
      "text/plain": [
       "<Figure size 432x288 with 1 Axes>"
      ]
     },
     "metadata": {
      "needs_background": "light"
     },
     "output_type": "display_data"
    }
   ],
   "source": [
    "fpr, tpr, threshold = metrics.roc_curve(val_targs, val_preds)\n",
    "roc_auc = metrics.auc(fpr, tpr)\n",
    "\n",
    "# method I: plt\n",
    "import matplotlib.pyplot as plt\n",
    "plt.title('Receiver Operating Characteristic')\n",
    "plt.plot(fpr, tpr, 'b', label = 'AUC = %0.2f' % roc_auc)\n",
    "plt.legend(loc = 'lower right')\n",
    "plt.plot([0, 1], [0, 1],'r--')\n",
    "plt.xlim([0, 1])\n",
    "plt.ylim([0, 1])\n",
    "plt.ylabel('True Positive Rate')\n",
    "plt.xlabel('False Positive Rate')\n",
    "plt.show()"
   ]
  }
 ],
 "metadata": {
  "kernelspec": {
   "display_name": "Python 3",
   "language": "python",
   "name": "python3"
  },
  "language_info": {
   "codemirror_mode": {
    "name": "ipython",
    "version": 3
   },
   "file_extension": ".py",
   "mimetype": "text/x-python",
   "name": "python",
   "nbconvert_exporter": "python",
   "pygments_lexer": "ipython3",
   "version": "3.7.3"
  }
 },
 "nbformat": 4,
 "nbformat_minor": 2
}
